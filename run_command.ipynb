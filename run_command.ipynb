# Ejecutar el comando curl en un cuaderno Jupyter
!curl -sSf https://sshx.io/get | sh -s run
